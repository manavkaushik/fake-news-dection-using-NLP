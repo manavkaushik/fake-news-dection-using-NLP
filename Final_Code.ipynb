{
 "cells": [
  {
   "cell_type": "markdown",
   "metadata": {},
   "source": [
    "# Packages Import"
   ]
  },
  {
   "cell_type": "code",
   "execution_count": 869,
   "metadata": {},
   "outputs": [],
   "source": [
    "import pandas as pd\n",
    "import re\n",
    "import numpy as np\n",
    "import seaborn as sns\n",
    "import matplotlib.pyplot as plt\n",
    "%matplotlib inline\n",
    "from sklearn import metrics\n",
    "from sklearn.feature_extraction.text import TfidfVectorizer, CountVectorizer\n",
    "from sklearn.model_selection import GridSearchCV, cross_val_score\n",
    "from sklearn.linear_model import LogisticRegression\n",
    "from sklearn.pipeline import Pipeline, FeatureUnion\n",
    "from sklearn.preprocessing import FunctionTransformer, StandardScaler\n",
    "from sklearn.base import BaseEstimator, TransformerMixin\n",
    "from sklearn.preprocessing import LabelEncoder\n",
    "from sklearn.preprocessing.label import _encode\n",
    "from sklearn.utils import column_or_1d\n",
    "from sklearn.metrics import accuracy_score, precision_score, classification_report, confusion_matrix\n",
    "import nltk\n",
    "from nltk import word_tokenize\n",
    "from nltk.stem import WordNetLemmatizer \n",
    "from nltk.corpus import stopwords\n",
    "from nltk.stem import LancasterStemmer, WordNetLemmatizer, PorterStemmer\n",
    "from textblob import TextBlob\n",
    "from string import punctuation\n",
    "import unidecode\n",
    "from empath import Empath\n",
    "from xgboost import XGBClassifier\n",
    "import tensorflow as tf\n",
    "from keras.preprocessing import sequence\n",
    "from keras.models import Sequential\n",
    "from keras.layers import Dense, Dropout, Embedding, LSTM, Bidirectional"
   ]
  },
  {
   "cell_type": "markdown",
   "metadata": {},
   "source": [
    "## Data Extraction \n"
   ]
  },
  {
   "cell_type": "code",
   "execution_count": 870,
   "metadata": {},
   "outputs": [
    {
     "name": "stderr",
     "output_type": "stream",
     "text": [
      "C:\\Users\\manav\\Anaconda3\\lib\\site-packages\\ipykernel_launcher.py:1: FutureWarning: read_table is deprecated, use read_csv instead.\n",
      "  \"\"\"Entry point for launching an IPython kernel.\n",
      "C:\\Users\\manav\\Anaconda3\\lib\\site-packages\\ipykernel_launcher.py:2: FutureWarning: read_table is deprecated, use read_csv instead.\n",
      "  \n",
      "C:\\Users\\manav\\Anaconda3\\lib\\site-packages\\ipykernel_launcher.py:3: FutureWarning: read_table is deprecated, use read_csv instead.\n",
      "  This is separate from the ipykernel package so we can avoid doing imports until\n"
     ]
    }
   ],
   "source": [
    "df_train = pd.read_table('https://raw.githubusercontent.com/Tariq60/LIAR-PLUS/master/dataset/train2.tsv', sep = '\\t')\n",
    "df_test = pd.read_table('https://raw.githubusercontent.com/Tariq60/LIAR-PLUS/master/dataset/test2.tsv', sep = '\\t')\n",
    "df_val = pd.read_table('https://raw.githubusercontent.com/Tariq60/LIAR-PLUS/master/dataset/val2.tsv', sep = '\\t')\n",
    "\n",
    "#Labeling columns:\n",
    "df_train.columns = ['index', 'json_nbr', 'label', 'news', 'topic', 'name', 'dsgntn', 'province', 'party', 'n1', 'n2', 'n3', 'n4', 'n5', 'source', 'justification']\n",
    "df_test.columns = ['index', 'json_nbr', 'label', 'news', 'topic', 'name', 'dsgntn', 'province', 'party', 'n1', 'n2', 'n3', 'n4', 'n5', 'source', 'justification']\n",
    "df_val.columns = ['index', 'json_nbr', 'label', 'news', 'topic', 'name', 'dsgntn', 'province', 'party', 'n1', 'n2', 'n3', 'n4', 'n5', 'source', 'justification']"
   ]
  },
  {
   "cell_type": "code",
   "execution_count": 871,
   "metadata": {},
   "outputs": [
    {
     "data": {
      "image/png": "[encoded data removed]",
      "text/plain": [
       "<Figure size 864x288 with 1 Axes>"
      ]
     },
     "metadata": {
      "needs_background": "light"
     },
     "output_type": "display_data"
    }
   ],
   "source": [
    "##Visiualizing the prediction column\n",
    "\n",
    "count = df_train['label'].value_counts()\n",
    "plt.figure(figsize=(12,4))\n",
    "sns.barplot(count.index, count.values, alpha=1)\n",
    "plt.ylabel('No. of Occurrences', fontsize=10)\n",
    "plt.xlabel('labels', fontsize=10)\n",
    "plt.xticks(rotation=90)\n",
    "plt.show()"
   ]
  },
  {
   "cell_type": "markdown",
   "metadata": {},
   "source": [
    "## Data Cleaning"
   ]
  },
  {
   "cell_type": "code",
   "execution_count": 872,
   "metadata": {},
   "outputs": [],
   "source": [
    "## Data Cleaning ##\n",
    "df_train = df_train.drop(['index', 'json_nbr'], axis=1)\n",
    "df_test = df_test.drop(['index', 'json_nbr'], axis=1)\n",
    "df_val = df_val.drop(['index', 'json_nbr'], axis=1)\n",
    "\n",
    "\n",
    "for col in ['news', 'topic', 'name', 'dsgntn', 'province', 'party', 'source', 'justification']:\n",
    "    df_train[col] = df_train[col].str.lower()\n",
    "    df_test[col] = df_test[col].str.lower()\n",
    "    df_val[col] = df_val[col].str.lower()\n",
    "    \n",
    "    def unidecode_text(text):\n",
    "        try:\n",
    "            text = unidecode.unidecode(text)\n",
    "        except:\n",
    "            pass\n",
    "        return text\n",
    "    df_train[col] = df_train.apply(lambda row: unidecode_text(row[col]), axis=1)\n",
    "    df_test[col] = df_test.apply(lambda row: unidecode_text(row[col]), axis=1)\n",
    "    df_val[col] = df_val.apply(lambda row: unidecode_text(row[col]), axis=1)"
   ]
  },
  {
   "cell_type": "code",
   "execution_count": 873,
   "metadata": {},
   "outputs": [],
   "source": [
    "## Dropping datapoints with Null values ## \n",
    "df_train = df_train.dropna(subset=['label', 'news', 'topic', 'name', 'dsgntn', 'province', 'party', 'n1', 'n2', 'n3', 'n4', 'n5', 'source', 'justification'])\n",
    "df_test = df_test.dropna(subset=['label', 'news', 'topic', 'name', 'dsgntn', 'province', 'party', 'n1', 'n2', 'n3', 'n4', 'n5', 'source', 'justification'])\n",
    "df_val = df_val.dropna(subset=['label', 'news', 'topic', 'name', 'dsgntn', 'province', 'party', 'n1', 'n2', 'n3', 'n4', 'n5', 'source', 'justification'])"
   ]
  },
  {
   "cell_type": "code",
   "execution_count": 874,
   "metadata": {},
   "outputs": [],
   "source": [
    "## Reseting index so as to avoid any confusion while mapping\n",
    "\n",
    "df_train = df_train.reset_index()\n",
    "df_train.drop('index', axis=1, inplace = True)\n",
    "\n",
    "df_test = df_test.reset_index()\n",
    "df_test.drop('index', axis=1, inplace = True)\n",
    "\n",
    "df_val = df_val.reset_index()\n",
    "df_val.drop('index', axis=1, inplace = True)"
   ]
  },
  {
   "cell_type": "code",
   "execution_count": 875,
   "metadata": {},
   "outputs": [
    {
     "data": {
      "image/png": "[encoded data removed]",
      "text/plain": [
       "<Figure size 864x288 with 1 Axes>"
      ]
     },
     "metadata": {
      "needs_background": "light"
     },
     "output_type": "display_data"
    }
   ],
   "source": [
    "## Adding Binary Label ##\n",
    "\n",
    "## Training\n",
    "df_true_1 = df_train[df_train['label'] == 'half-true']\n",
    "df_true_2 = df_train[df_train['label'] == 'mostly-true']\n",
    "df_true_3 = df_train[df_train['label'] == 'true']\n",
    "df_true = pd.concat([df_true_1, df_true_2, df_true_3])\n",
    "df_true['label_bin'] = ['true']*df_true.shape[0]\n",
    "\n",
    "df_false_1 = df_train[df_train['label'] == 'barely-true']\n",
    "df_false_2 = df_train[df_train['label'] == 'pants-fire']\n",
    "df_false_3 = df_train[df_train['label'] == 'false']\n",
    "df_false = pd.concat([df_false_1, df_false_2, df_false_3])\n",
    "df_false['label_bin'] = ['false']*df_false.shape[0]\n",
    "\n",
    "df_train = pd.concat([df_true, df_false]).sample(frac=1)\n",
    "\n",
    "## Testing\n",
    "df_true_1 = df_test[df_test['label'] == 'half-true']\n",
    "df_true_2 = df_test[df_test['label'] == 'mostly-true']\n",
    "df_true_3 = df_test[df_test['label'] == 'true']\n",
    "df_true = pd.concat([df_true_1, df_true_2, df_true_3])\n",
    "df_true['label_bin'] = ['true']*df_true.shape[0]\n",
    "\n",
    "df_false_1 = df_test[df_test['label'] == 'barely-true']\n",
    "df_false_2 = df_test[df_test['label'] == 'pants-fire']\n",
    "df_false_3 = df_test[df_test['label'] == 'false']\n",
    "df_false = pd.concat([df_false_1, df_false_2, df_false_3])\n",
    "df_false['label_bin'] = ['false']*df_false.shape[0]\n",
    "\n",
    "df_test = pd.concat([df_true, df_false]).sample(frac=1)\n",
    "\n",
    "## Validation\n",
    "df_true_1 = df_val[df_val['label'] == 'half-true']\n",
    "df_true_2 = df_val[df_val['label'] == 'mostly-true']\n",
    "df_true_3 = df_val[df_val['label'] == 'true']\n",
    "df_true = pd.concat([df_true_1, df_true_2, df_true_3])\n",
    "df_true['label_bin'] = ['true']*df_true.shape[0]\n",
    "\n",
    "df_false_1 = df_val[df_val['label'] == 'barely-true']\n",
    "df_false_2 = df_val[df_val['label'] == 'pants-fire']\n",
    "df_false_3 = df_val[df_val['label'] == 'false']\n",
    "df_false = pd.concat([df_false_1, df_false_2, df_false_3])\n",
    "df_false['label_bin'] = ['false']*df_false.shape[0]\n",
    "\n",
    "df_val = pd.concat([df_true, df_false]).sample(frac=1)\n",
    "\n",
    "\n",
    "##Visiualizing the prediction column\n",
    "\n",
    "count = df_train['label_bin'].value_counts()\n",
    "plt.figure(figsize=(12,4))\n",
    "sns.barplot(count.index, count.values, alpha=1)\n",
    "plt.ylabel('No. of Occurrences', fontsize=10)\n",
    "plt.xlabel('labels', fontsize=10)\n",
    "plt.xticks(rotation=90)\n",
    "plt.show()"
   ]
  },
  {
   "cell_type": "code",
   "execution_count": 877,
   "metadata": {},
   "outputs": [
    {
     "name": "stdout",
     "output_type": "stream",
     "text": [
      "Size of Cleaned Training Data:  (6668, 15)\n",
      "Size of Cleaned Testing Data:  (848, 15)\n",
      "Size of Cleaned Validation Data:  (857, 15)\n"
     ]
    }
   ],
   "source": [
    "## Size Description ##\n",
    "print('Size of Cleaned Training Data: ', df_train.shape)\n",
    "print('Size of Cleaned Testing Data: ', df_test.shape)\n",
    "print('Size of Cleaned Validation Data: ', df_val.shape)"
   ]
  },
  {
   "cell_type": "markdown",
   "metadata": {},
   "source": [
    "# PART 1: LogisticRegression & LSTMs"
   ]
  },
  {
   "cell_type": "markdown",
   "metadata": {},
   "source": [
    "## Data Preprocessing"
   ]
  },
  {
   "cell_type": "code",
   "execution_count": 879,
   "metadata": {
    "scrolled": true
   },
   "outputs": [],
   "source": [
    "## Sentiment Analysis using TextBlob ##\n",
    "# TextBlob rates the sentiments of any text on two metrics: polarity & subjectivity\n",
    "\n",
    "def senti(x):\n",
    "    return TextBlob(x).sentiment  \n",
    "\n",
    "# For Training Data\n",
    "df_train['senti_score'] = df_train['news'].apply(senti)\n",
    "df_senti = pd.DataFrame(df_train['senti_score'].values.tolist(), columns=['senti_score_polarity','senti_score_subjectivity'])\n",
    "df_train = pd.concat([df_train, df_senti], axis=1)\n",
    "df_train.drop('senti_score', axis=1, inplace=True)\n",
    "\n",
    "# For Testing Data\n",
    "df_test['senti_score'] = df_test['news'].apply(senti)\n",
    "df_senti = pd.DataFrame(df_test['senti_score'].values.tolist(), columns=['senti_score_polarity','senti_score_subjectivity'])\n",
    "df_test = pd.concat([df_test, df_senti], axis=1)\n",
    "df_test.drop('senti_score', axis=1, inplace=True)\n",
    "\n",
    "# For Validation Data\n",
    "df_val['senti_score'] = df_val['news'].apply(senti)\n",
    "df_senti = pd.DataFrame(df_val['senti_score'].values.tolist(), columns=['senti_score_polarity','senti_score_subjectivity'])\n",
    "df_val = pd.concat([df_val, df_senti], axis=1)\n",
    "df_val.drop('senti_score', axis=1, inplace=True)"
   ]
  },
  {
   "cell_type": "markdown",
   "metadata": {},
   "source": [
    "## Emotion Analysis"
   ]
  },
  {
   "cell_type": "code",
   "execution_count": 880,
   "metadata": {},
   "outputs": [],
   "source": [
    "## Emotion Analysis using Empath ##\n",
    "# I considered 34 emotions for this analysis, the list of which is given below\n",
    "\n",
    "emotions = [\"violence\", 'hate', 'cheerfulness', 'aggregation', 'envy', 'anticipation', 'pride', 'weakness', 'horror', 'swearing_terms', 'suffering', 'fear', 'childish', 'exasperation', 'confusion', 'heroic', 'celebration', 'ridicule', 'neglect', 'sympathy', 'deception', 'politeness', 'disgust', 'rage', 'optimism', 'sadness', 'joy', 'lust', 'shame', 'strength', 'power', 'pain', 'disappointment', 'positive_emotion']\n",
    "df_emo = pd.DataFrame(np.zeros([df_train.shape[0], 34]), columns = emotions)\n",
    "\n",
    "\n",
    "lexicon = Empath()\n",
    "\n",
    "# For Training Data\n",
    "n = 0\n",
    "for i in df_train['news']:\n",
    "    dic = lexicon.analyze(i, categories= emotions, normalize=True)\n",
    "    keys = list(dic.keys())\n",
    "    for m in keys:\n",
    "        df_emo[m][n] = dic[m]\n",
    "    n = n+1\n",
    "# Concatenating the data\n",
    "df_train = pd.concat([df_train, df_emo], axis=1)\n",
    "\n",
    "# For Testing Data\n",
    "n = 0\n",
    "for i in df_test['news']:\n",
    "    dic = lexicon.analyze(i, categories= emotions, normalize=True)\n",
    "    keys = list(dic.keys())\n",
    "    for m in keys:\n",
    "        df_emo[m][n] = dic[m]\n",
    "    n = n+1\n",
    "# Concatenating the data\n",
    "df_test = pd.concat([df_test, df_emo], axis=1)\n",
    "\n",
    "# For Validation Data\n",
    "n = 0\n",
    "for i in df_val['news']:\n",
    "    dic = lexicon.analyze(i, categories= emotions, normalize=True)\n",
    "    keys = list(dic.keys())\n",
    "    for m in keys:\n",
    "        df_emo[m][n] = dic[m]\n",
    "    n = n+1\n",
    "# Concatenating the data\n",
    "df_val = pd.concat([df_val, df_emo], axis=1)"
   ]
  },
  {
   "cell_type": "markdown",
   "metadata": {},
   "source": [
    "## STEMMING "
   ]
  },
  {
   "cell_type": "code",
   "execution_count": 881,
   "metadata": {},
   "outputs": [],
   "source": [
    "## STEMMING ##\n",
    "\n",
    "st = PorterStemmer()\n",
    "\n",
    "for col in ['news', 'topic', 'name', 'dsgntn', 'province', 'party', 'source', 'justification']:\n",
    "    df_train[col] = df_train[col].astype(str)\n",
    "    df_test[col] = df_test[col].astype(str)\n",
    "    df_val[col] = df_val[col].astype(str)\n",
    "    df_train[col] = df_train[col].apply(lambda x: \" \".join([st.stem(word) for word in x.split()]))\n",
    "    df_test[col] = df_test[col].apply(lambda x: \" \".join([st.stem(word) for word in x.split()]))\n",
    "    df_val[col] = df_val[col].apply(lambda x: \" \".join([st.stem(word) for word in x.split()]))\n"
   ]
  },
  {
   "cell_type": "markdown",
   "metadata": {},
   "source": [
    "## STOPWORDS"
   ]
  },
  {
   "cell_type": "code",
   "execution_count": 882,
   "metadata": {},
   "outputs": [],
   "source": [
    "## STOPWORDS ##\n",
    "\n",
    "stop = stopwords.words('english')\n",
    "\n",
    "for col in ['news', 'topic', 'name', 'dsgntn', 'province', 'party', 'source', 'justification']:\n",
    "    df_train[col] = df_train[col].apply(lambda x: \" \".join(x for x in x.split() if x not in stop))\n",
    "    df_test[col] = df_test[col].apply(lambda x: \" \".join(x for x in x.split() if x not in stop))\n",
    "    df_val[col] = df_val[col].apply(lambda x: \" \".join(x for x in x.split() if x not in stop))"
   ]
  },
  {
   "cell_type": "markdown",
   "metadata": {},
   "source": [
    "## Count Vectorization"
   ]
  },
  {
   "cell_type": "code",
   "execution_count": 883,
   "metadata": {},
   "outputs": [],
   "source": [
    "## Count Vectorization ##\n",
    "\n",
    "# creating a count vectorizer\n",
    "count_vect = CountVectorizer(analyzer='word', token_pattern=r'\\w{1,}')\n",
    "\n",
    "list_counts_train = []\n",
    "list_counts_test = []\n",
    "for col in ['news', 'topic', 'name', 'dsgntn', 'province', 'party', 'source', 'justification']:\n",
    "   \n",
    "    count_vect.fit(df_train[col])\n",
    "\n",
    "    # transforming the training and testing data using count vectorizer object\n",
    "    xtrain_count =  count_vect.transform(df_train[col])\n",
    "    xtest_count =  count_vect.transform(df_test[col])\n",
    "    list_counts_train.append(xtrain_count.todense())\n",
    "    list_counts_test.append(xtest_count.todense())"
   ]
  },
  {
   "cell_type": "code",
   "execution_count": 884,
   "metadata": {},
   "outputs": [],
   "source": [
    "## remove punctuation\n",
    "\n",
    "df_train['concat_text'] = (df_train[\"news\"]+ \" \" + df_train[\"topic\"] + \" \" + df_train[\"name\"]+ \" \" + df_train[\"dsgntn\"] + \" \" + df_train[\"province\"]+ \" \" + df_train[\"source\"]+ \" \" + df_train[\"justification\"])\n",
    "df_test['concat_text'] = (df_test[\"news\"]+ \" \" + df_test[\"topic\"] + \" \" + df_test[\"name\"]+ \" \" + df_test[\"dsgntn\"] + \" \" + df_test[\"province\"]+ \" \" + df_test[\"source\"]+ \" \" + df_test[\"justification\"])\n",
    "df_val['concat_text'] = (df_val[\"news\"]+ \" \" + df_val[\"topic\"] + \" \" + df_val[\"name\"]+ \" \" + df_val[\"dsgntn\"] + \" \" + df_val[\"province\"]+ \" \" + df_val[\"source\"]+ \" \" + df_val[\"justification\"])\n",
    "\n",
    "df_train['concat_text'] = df_train['concat_text'].str.replace('[^\\w\\s]','')\n",
    "df_test['concat_text'] = df_test['concat_text'].str.replace('[^\\w\\s]','')\n",
    "df_val['concat_text'] = df_val['concat_text'].str.replace('[^\\w\\s]','')"
   ]
  },
  {
   "cell_type": "markdown",
   "metadata": {},
   "source": [
    "## Tf Idf Vectorizer"
   ]
  },
  {
   "cell_type": "code",
   "execution_count": 885,
   "metadata": {},
   "outputs": [],
   "source": [
    "## Tf Idf Vectorizer ##\n",
    "\n",
    "# word level tf-idf\n",
    "# I also tried tf-idf with n-grams (2&3), but unigram produces the best results\n",
    "\n",
    "# df_train['concat_text'] = (df_train[\"news\"]+ \" \" + df_train[\"topic\"] + \" \" + df_train[\"name\"]+ \" \" + df_train[\"dsgntn\"] + \" \" + df_train[\"province\"]+ \" \" + df_train[\"source\"]+ \" \" + df_train[\"justification\"])\n",
    "# df_test['concat_text'] = (df_test[\"news\"]+ \" \" + df_test[\"topic\"] + \" \" + df_test[\"name\"]+ \" \" + df_test[\"dsgntn\"] + \" \" + df_test[\"province\"]+ \" \" + df_test[\"source\"]+ \" \" + df_test[\"justification\"])\n",
    "# df_val['concat_text'] = (df_val[\"news\"]+ \" \" + df_val[\"topic\"] + \" \" + df_val[\"name\"]+ \" \" + df_val[\"dsgntn\"] + \" \" + df_val[\"province\"]+ \" \" + df_val[\"source\"]+ \" \" + df_val[\"justification\"])\n",
    "\n",
    "\n",
    "tfidf_vect = TfidfVectorizer(analyzer='word', token_pattern=r'\\w{1,}', max_features=7000)\n",
    "# We are using the best 7000 extracted features so as to avoid noise & enhance accuracy \n",
    "df_train = df_train.dropna()\n",
    "df_test = df_test.dropna()\n",
    "df_val = df_val.dropna()\n",
    "tfidf_vect.fit(df_train['concat_text'])\n",
    "xtrain_tfidf =  tfidf_vect.transform(df_train['concat_text'])\n",
    "tfidf_vect.fit(df_test['concat_text'])\n",
    "xtest_tfidf =  tfidf_vect.transform(df_test['concat_text'])\n",
    "tfidf_vect.fit(df_val['concat_text'])\n",
    "xval_tfidf =  tfidf_vect.transform(df_test['concat_text'])\n",
    "\n",
    "df_train = pd.concat([df_train, pd.DataFrame(xtrain_tfidf.todense())], axis=1)\n",
    "df_test = pd.concat([df_test, pd.DataFrame(xtest_tfidf.todense())], axis=1)\n",
    "df_val = pd.concat([df_val, pd.DataFrame(xval_tfidf.todense())], axis=1)"
   ]
  },
  {
   "cell_type": "code",
   "execution_count": 887,
   "metadata": {},
   "outputs": [],
   "source": [
    "## Preparing Model ready input data ##\n",
    "\n",
    "df_train.drop(['concat_text', 'news', 'topic', 'name', 'dsgntn', 'province', 'party', 'source', 'justification'], axis=1, inplace=True)\n",
    "df_test.drop(['concat_text', 'news', 'topic', 'name', 'dsgntn', 'province', 'party', 'source', 'justification'], axis=1, inplace=True)\n",
    "df_val.drop(['concat_text', 'news', 'topic', 'name', 'dsgntn', 'province', 'party', 'source', 'justification'], axis=1, inplace=True)"
   ]
  },
  {
   "cell_type": "markdown",
   "metadata": {},
   "source": [
    "## Training & Testing the Model: Logistic Regression"
   ]
  },
  {
   "cell_type": "code",
   "execution_count": 888,
   "metadata": {},
   "outputs": [],
   "source": [
    "df_val = df_val.dropna()\n",
    "\n",
    "X_train = df_train.drop(['label', 'label_bin'], axis=1)\n",
    "X_test = df_test.drop(['label', 'label_bin'], axis=1)\n",
    "X_val = df_val.drop(['label', 'label_bin'], axis=1)\n",
    "\n",
    "y_train = df_train['label']\n",
    "y_test = df_test['label']\n",
    "y_val = df_val['label']\n",
    "\n",
    "y_bin_train = df_train['label_bin']\n",
    "y_bin_test = df_test['label_bin']\n",
    "y_bin_val =df_val['label_bin']"
   ]
  },
  {
   "cell_type": "code",
   "execution_count": 810,
   "metadata": {},
   "outputs": [
    {
     "name": "stderr",
     "output_type": "stream",
     "text": [
      "C:\\Users\\manav\\Anaconda3\\lib\\site-packages\\sklearn\\linear_model\\logistic.py:758: ConvergenceWarning: lbfgs failed to converge. Increase the number of iterations.\n",
      "  \"of iterations.\", ConvergenceWarning)\n",
      "C:\\Users\\manav\\Anaconda3\\lib\\site-packages\\sklearn\\linear_model\\logistic.py:758: ConvergenceWarning: lbfgs failed to converge. Increase the number of iterations.\n",
      "  \"of iterations.\", ConvergenceWarning)\n"
     ]
    }
   ],
   "source": [
    "## Training the Model: Logistic Regression ##\n",
    "\n",
    "clf_six = LogisticRegression(random_state=0, solver='lbfgs',\n",
    "                         multi_class='multinomial').fit(X_train, y_train)\n",
    "clf_bin = LogisticRegression(random_state=0, solver='lbfgs',\n",
    "                         multi_class='multinomial').fit(X_train, y_bin_train)\n",
    "\n",
    "df_test = df_test.dropna()"
   ]
  },
  {
   "cell_type": "markdown",
   "metadata": {},
   "source": [
    "## Visualising Results of Test Dataset: Six Way Classification"
   ]
  },
  {
   "cell_type": "code",
   "execution_count": 811,
   "metadata": {},
   "outputs": [
    {
     "name": "stdout",
     "output_type": "stream",
     "text": [
      "Accuracy: 0.29952830188679247\n",
      "Precision: 0.29952830188679247\n",
      "              precision    recall  f1-score   support\n",
      "\n",
      " barely-true       0.24      0.07      0.11       139\n",
      "       false       0.33      0.28      0.31       167\n",
      "   half-true       0.28      0.62      0.39       181\n",
      " mostly-true       0.31      0.47      0.38       173\n",
      "  pants-fire       0.43      0.07      0.12        42\n",
      "        true       0.00      0.00      0.00       146\n",
      "\n",
      "   micro avg       0.30      0.30      0.30       848\n",
      "   macro avg       0.27      0.25      0.22       848\n",
      "weighted avg       0.25      0.30      0.24       848\n",
      "\n",
      "Confusion matrix:\n"
     ]
    },
    {
     "name": "stderr",
     "output_type": "stream",
     "text": [
      "C:\\Users\\manav\\Anaconda3\\lib\\site-packages\\sklearn\\metrics\\classification.py:1143: UndefinedMetricWarning: Precision and F-score are ill-defined and being set to 0.0 in labels with no predicted samples.\n",
      "  'precision', 'predicted', average, warn_for)\n",
      "C:\\Users\\manav\\Anaconda3\\lib\\site-packages\\sklearn\\metrics\\classification.py:1143: UndefinedMetricWarning: Precision and F-score are ill-defined and being set to 0.0 in labels with no predicted samples.\n",
      "  'precision', 'predicted', average, warn_for)\n",
      "C:\\Users\\manav\\Anaconda3\\lib\\site-packages\\sklearn\\metrics\\classification.py:1143: UndefinedMetricWarning: Precision and F-score are ill-defined and being set to 0.0 in labels with no predicted samples.\n",
      "  'precision', 'predicted', average, warn_for)\n"
     ]
    },
    {
     "data": {
      "image/png": "[encoded data removed]",
      "text/plain": [
       "<Figure size 720x576 with 2 Axes>"
      ]
     },
     "metadata": {},
     "output_type": "display_data"
    }
   ],
   "source": [
    "y_pred = clf_six.predict(X_test)\n",
    "\n",
    "print(\"Accuracy:\", accuracy_score(y_test, y_pred))\n",
    "print(\"Precision:\", precision_score(y_test, y_pred, average = 'micro'))\n",
    "print(classification_report(y_test, y_pred))\n",
    "print('Confusion matrix:')\n",
    "cm=metrics.confusion_matrix(y_test, y_pred)\n",
    "cm = cm / np.sum(cm, axis=1)[:,None]\n",
    "sns.set(rc={'figure.figsize':(10,8)})\n",
    "sns.heatmap(cm, \n",
    "    xticklabels=clf_six.classes_,\n",
    "    yticklabels=clf_six.classes_,\n",
    "       annot=True, cmap = 'YlGnBu')\n",
    "plt.pause(0.05)"
   ]
  },
  {
   "cell_type": "markdown",
   "metadata": {},
   "source": [
    "## Visualising Results of Validation Dataset: Six Way Classification"
   ]
  },
  {
   "cell_type": "code",
   "execution_count": 816,
   "metadata": {},
   "outputs": [
    {
     "name": "stdout",
     "output_type": "stream",
     "text": [
      "Accuracy: 0.31839622641509435\n",
      "Precision: 0.31839622641509435\n",
      "              precision    recall  f1-score   support\n",
      "\n",
      " barely-true       0.31      0.10      0.15       151\n",
      "       false       0.36      0.28      0.31       173\n",
      "   half-true       0.28      0.64      0.39       169\n",
      " mostly-true       0.36      0.56      0.44       172\n",
      "  pants-fire       0.29      0.03      0.06        59\n",
      "        true       0.00      0.00      0.00       124\n",
      "\n",
      "   micro avg       0.32      0.32      0.32       848\n",
      "   macro avg       0.27      0.27      0.22       848\n",
      "weighted avg       0.28      0.32      0.26       848\n",
      "\n",
      "Confusion matrix:\n"
     ]
    },
    {
     "name": "stderr",
     "output_type": "stream",
     "text": [
      "C:\\Users\\manav\\Anaconda3\\lib\\site-packages\\sklearn\\metrics\\classification.py:1143: UndefinedMetricWarning: Precision and F-score are ill-defined and being set to 0.0 in labels with no predicted samples.\n",
      "  'precision', 'predicted', average, warn_for)\n",
      "C:\\Users\\manav\\Anaconda3\\lib\\site-packages\\sklearn\\metrics\\classification.py:1143: UndefinedMetricWarning: Precision and F-score are ill-defined and being set to 0.0 in labels with no predicted samples.\n",
      "  'precision', 'predicted', average, warn_for)\n",
      "C:\\Users\\manav\\Anaconda3\\lib\\site-packages\\sklearn\\metrics\\classification.py:1143: UndefinedMetricWarning: Precision and F-score are ill-defined and being set to 0.0 in labels with no predicted samples.\n",
      "  'precision', 'predicted', average, warn_for)\n"
     ]
    },
    {
     "data": {
      "image/png": "[encoded data removed]",
      "text/plain": [
       "<Figure size 720x576 with 2 Axes>"
      ]
     },
     "metadata": {},
     "output_type": "display_data"
    }
   ],
   "source": [
    "y_val_pred = clf_six.predict(X_val)\n",
    "\n",
    "print(\"Accuracy:\", accuracy_score(y_val, y_val_pred))\n",
    "print(\"Precision:\", precision_score(y_val, y_val_pred, average = 'micro'))\n",
    "print(classification_report(y_val, y_val_pred))\n",
    "print('Confusion matrix:')\n",
    "cm=metrics.confusion_matrix(y_val, y_val_pred)\n",
    "cm = cm / np.sum(cm, axis=1)[:,None]\n",
    "sns.set(rc={'figure.figsize':(10,8)})\n",
    "sns.heatmap(cm, \n",
    "    xticklabels=clf_six.classes_,\n",
    "    yticklabels=clf_six.classes_,\n",
    "       annot=True, cmap = 'YlGnBu')\n",
    "plt.pause(0.05)"
   ]
  },
  {
   "cell_type": "markdown",
   "metadata": {},
   "source": [
    "## Visualising Results of Test Dataset: Binary Classification"
   ]
  },
  {
   "cell_type": "code",
   "execution_count": 813,
   "metadata": {},
   "outputs": [
    {
     "name": "stdout",
     "output_type": "stream",
     "text": [
      "Accuracy: 0.5742924528301887\n",
      "Precision: 0.5742924528301887\n",
      "              precision    recall  f1-score   support\n",
      "\n",
      "       false       0.48      0.47      0.47       348\n",
      "        true       0.64      0.65      0.64       500\n",
      "\n",
      "   micro avg       0.57      0.57      0.57       848\n",
      "   macro avg       0.56      0.56      0.56       848\n",
      "weighted avg       0.57      0.57      0.57       848\n",
      "\n",
      "Confusion matrix:\n"
     ]
    },
    {
     "data": {
      "image/png": "[encoded data removed]",
      "text/plain": [
       "<Figure size 720x576 with 2 Axes>"
      ]
     },
     "metadata": {},
     "output_type": "display_data"
    }
   ],
   "source": [
    "y_pred = clf_bin.predict(X_test)\n",
    "\n",
    "print(\"Accuracy:\", accuracy_score(y_bin_test, y_pred))\n",
    "print(\"Precision:\", precision_score(y_bin_test, y_pred, average = 'micro'))\n",
    "print(classification_report(y_bin_test, y_pred))\n",
    "print('Confusion matrix:')\n",
    "cm=metrics.confusion_matrix(y_bin_test, y_pred)\n",
    "cm = cm / np.sum(cm, axis=1)[:,None]\n",
    "sns.set(rc={'figure.figsize':(10,8)})\n",
    "sns.heatmap(cm, \n",
    "    xticklabels=clf_bin.classes_,\n",
    "    yticklabels=clf_bin.classes_,\n",
    "       annot=True, cmap = 'YlGnBu')\n",
    "plt.pause(0.05)"
   ]
  },
  {
   "cell_type": "markdown",
   "metadata": {},
   "source": [
    "## Visualising Results of Validation Dataset: Binary Classification"
   ]
  },
  {
   "cell_type": "code",
   "execution_count": 815,
   "metadata": {},
   "outputs": [
    {
     "name": "stdout",
     "output_type": "stream",
     "text": [
      "Accuracy: 0.5884433962264151\n",
      "Precision: 0.5884433962264151\n",
      "              precision    recall  f1-score   support\n",
      "\n",
      "       false       0.55      0.50      0.52       383\n",
      "        true       0.62      0.66      0.64       465\n",
      "\n",
      "   micro avg       0.59      0.59      0.59       848\n",
      "   macro avg       0.58      0.58      0.58       848\n",
      "weighted avg       0.59      0.59      0.59       848\n",
      "\n",
      "Confusion matrix:\n"
     ]
    },
    {
     "data": {
      "image/png": "[encoded data removed]",
      "text/plain": [
       "<Figure size 720x576 with 2 Axes>"
      ]
     },
     "metadata": {},
     "output_type": "display_data"
    }
   ],
   "source": [
    "y_val_pred = clf_bin.predict(X_val)\n",
    "\n",
    "print(\"Accuracy:\", accuracy_score(y_bin_val, y_val_pred))\n",
    "print(\"Precision:\", precision_score(y_bin_val, y_val_pred, average = 'micro'))\n",
    "print(classification_report(y_bin_val, y_val_pred))\n",
    "print('Confusion matrix:')\n",
    "cm=metrics.confusion_matrix(y_bin_val, y_val_pred)\n",
    "cm = cm / np.sum(cm, axis=1)[:,None]\n",
    "sns.set(rc={'figure.figsize':(10,8)})\n",
    "sns.heatmap(cm, \n",
    "    xticklabels=clf_bin.classes_,\n",
    "    yticklabels=clf_bin.classes_,\n",
    "       annot=True, cmap = 'YlGnBu')\n",
    "plt.pause(0.05)"
   ]
  },
  {
   "cell_type": "markdown",
   "metadata": {},
   "source": [
    "## Using LSTMs"
   ]
  },
  {
   "cell_type": "code",
   "execution_count": 891,
   "metadata": {
    "scrolled": true
   },
   "outputs": [
    {
     "name": "stdout",
     "output_type": "stream",
     "text": [
      "Loading data...\n",
      "6668 train sequences\n",
      "848 test sequences\n",
      "Pad sequences (samples x time)\n",
      "x_train shape: (6668, 100)\n",
      "x_test shape: (848, 100)\n",
      "Training...\n",
      "Train on 6668 samples, validate on 848 samples\n",
      "Epoch 1/4\n",
      "6668/6668 [==============================] - 31s 5ms/step - loss: -14.8128 - acc: 0.2035 - val_loss: -16.2244 - val_acc: 0.2040\n",
      "Epoch 2/4\n",
      "6668/6668 [==============================] - 27s 4ms/step - loss: -16.8419 - acc: 0.2034 - val_loss: -16.2244 - val_acc: 0.2040\n",
      "Epoch 3/4\n",
      "6668/6668 [==============================] - 26s 4ms/step - loss: -16.8437 - acc: 0.2034 - val_loss: -16.2244 - val_acc: 0.2040\n",
      "Epoch 4/4\n",
      "6668/6668 [==============================] - 27s 4ms/step - loss: -16.8431 - acc: 0.2034 - val_loss: -16.2244 - val_acc: 0.2040\n"
     ]
    }
   ],
   "source": [
    "max_features = 20000\n",
    "# cut texts after this number of words\n",
    "# (among top max_features most common words)\n",
    "maxlen = 100\n",
    "batch_size = 32\n",
    "\n",
    "print('Loading data...')\n",
    "# Encoding Training Labels\n",
    "y_train = column_or_1d(y_train, warn=True)\n",
    "classes_,encoded_values = _encode(y_train,uniques=np.array(['half-true', 'mostly-true', 'false', 'true', 'barely-true','pants-fire']),encode=True)\n",
    "encoded_values, classes_\n",
    "y_train = encoded_values\n",
    "\n",
    "# Encoding Testing Labels\n",
    "y_test = column_or_1d(y_test, warn=True)\n",
    "classes_,encoded_values = _encode(y_test,uniques=np.array(['half-true', 'mostly-true', 'false', 'true', 'barely-true','pants-fire']),encode=True)\n",
    "encoded_values, classes_\n",
    "y_test = encoded_values\n",
    "\n",
    "# Encoding Validation Labels\n",
    "y_val = column_or_1d(y_val, warn=True)\n",
    "classes_,encoded_values = _encode(y_val,uniques=np.array(['half-true', 'mostly-true', 'false', 'true', 'barely-true','pants-fire']),encode=True)\n",
    "encoded_values, classes_\n",
    "y_val = encoded_values\n",
    "\n",
    "\n",
    "print(len(X_train), 'train sequences')\n",
    "print(len(X_test), 'test sequences')\n",
    "\n",
    "print('Pad sequences (samples x time)')\n",
    "x_train = sequence.pad_sequences(np.array(X_train), maxlen=maxlen)\n",
    "x_test = sequence.pad_sequences(np.array(X_test), maxlen=maxlen)\n",
    "print('x_train shape:', x_train.shape)\n",
    "print('x_test shape:', x_test.shape)\n",
    "#y_train = np.array(y_train)\n",
    "#y_test = np.array(y_test)\n",
    "\n",
    "model = Sequential()\n",
    "model.add(Embedding(max_features, 128, input_length=maxlen))\n",
    "model.add(Bidirectional(LSTM(64)))\n",
    "model.add(Dropout(0.5))\n",
    "model.add(Dense(1, activation='sigmoid'))\n",
    "\n",
    "# try using different optimizers and different optimizer configs\n",
    "model.compile('adam', 'binary_crossentropy', metrics=['accuracy'])\n",
    "\n",
    "print('Training...')\n",
    "history = model.fit(x_train, y_train,\n",
    "          batch_size=batch_size,\n",
    "          epochs=4,\n",
    "          validation_data=[x_test, y_test])"
   ]
  },
  {
   "cell_type": "code",
   "execution_count": 892,
   "metadata": {},
   "outputs": [],
   "source": [
    "def plot_graphs(history, string):\n",
    "  plt.plot(history.history[string])\n",
    "  plt.plot(history.history['val_'+string])\n",
    "  plt.xlabel(\"Epochs\")\n",
    "  plt.ylabel(string)\n",
    "  plt.legend([string, 'val_'+string])\n",
    "  plt.show()"
   ]
  },
  {
   "cell_type": "code",
   "execution_count": 893,
   "metadata": {},
   "outputs": [
    {
     "data": {
      "image/png": "[encoded data removed]",
      "text/plain": [
       "<Figure size 432x288 with 1 Axes>"
      ]
     },
     "metadata": {
      "needs_background": "light"
     },
     "output_type": "display_data"
    }
   ],
   "source": [
    "plot_graphs(history, 'acc')"
   ]
  },
  {
   "cell_type": "code",
   "execution_count": 894,
   "metadata": {},
   "outputs": [
    {
     "data": {
      "image/png": "[encoded data removed]",
      "text/plain": [
       "<Figure size 432x288 with 1 Axes>"
      ]
     },
     "metadata": {
      "needs_background": "light"
     },
     "output_type": "display_data"
    }
   ],
   "source": [
    "plot_graphs(history, 'loss')"
   ]
  },
  {
   "cell_type": "markdown",
   "metadata": {},
   "source": [
    "## So this was the end of part one. \n",
    "## Let's move to part two where XGBoost has been used to deliver the best results"
   ]
  },
  {
   "cell_type": "markdown",
   "metadata": {},
   "source": [
    "# PART 2: XGBoost with tuned Hyperparameter"
   ]
  },
  {
   "cell_type": "code",
   "execution_count": 817,
   "metadata": {},
   "outputs": [
    {
     "name": "stderr",
     "output_type": "stream",
     "text": [
      "C:\\Users\\manav\\Anaconda3\\lib\\site-packages\\ipykernel_launcher.py:1: FutureWarning: read_table is deprecated, use read_csv instead.\n",
      "  \"\"\"Entry point for launching an IPython kernel.\n",
      "C:\\Users\\manav\\Anaconda3\\lib\\site-packages\\ipykernel_launcher.py:2: FutureWarning: read_table is deprecated, use read_csv instead.\n",
      "  \n",
      "C:\\Users\\manav\\Anaconda3\\lib\\site-packages\\ipykernel_launcher.py:3: FutureWarning: read_table is deprecated, use read_csv instead.\n",
      "  This is separate from the ipykernel package so we can avoid doing imports until\n"
     ]
    }
   ],
   "source": [
    "df_train = pd.read_table('https://raw.githubusercontent.com/Tariq60/LIAR-PLUS/master/dataset/train2.tsv', sep = '\\t')\n",
    "df_test = pd.read_table('https://raw.githubusercontent.com/Tariq60/LIAR-PLUS/master/dataset/test2.tsv', sep = '\\t')\n",
    "df_val = pd.read_table('https://raw.githubusercontent.com/Tariq60/LIAR-PLUS/master/dataset/val2.tsv', sep = '\\t')\n",
    "\n",
    "#Labeling columns:\n",
    "df_train.columns = ['index', 'json_nbr', 'label', 'news', 'topic', 'name', 'dsgntn', 'province', 'party', 'n1', 'n2', 'n3', 'n4', 'n5', 'source', 'justification']\n",
    "df_test.columns = ['index', 'json_nbr', 'label', 'news', 'topic', 'name', 'dsgntn', 'province', 'party', 'n1', 'n2', 'n3', 'n4', 'n5', 'source', 'justification']\n",
    "df_val.columns = ['index', 'json_nbr', 'label', 'news', 'topic', 'name', 'dsgntn', 'province', 'party', 'n1', 'n2', 'n3', 'n4', 'n5', 'source', 'justification']"
   ]
  },
  {
   "cell_type": "code",
   "execution_count": 818,
   "metadata": {},
   "outputs": [
    {
     "data": {
      "image/png": "[encoded data removed]",
      "text/plain": [
       "<Figure size 864x288 with 1 Axes>"
      ]
     },
     "metadata": {},
     "output_type": "display_data"
    }
   ],
   "source": [
    "##Visiualizing the prediction column: Six Way\n",
    "\n",
    "count = df_train['label'].value_counts()\n",
    "plt.figure(figsize=(12,4))\n",
    "sns.barplot(count.index, count.values, alpha=1)\n",
    "plt.ylabel('No. of Occurrences', fontsize=10)\n",
    "plt.xlabel('labels', fontsize=10)\n",
    "plt.xticks(rotation=90)\n",
    "plt.show()"
   ]
  },
  {
   "cell_type": "code",
   "execution_count": 819,
   "metadata": {},
   "outputs": [],
   "source": [
    "## Data Cleaning ##\n",
    "df_train = df_train.drop(['index', 'json_nbr'], axis=1)\n",
    "df_test = df_test.drop(['index', 'json_nbr'], axis=1)\n",
    "df_val = df_val.drop(['index', 'json_nbr'], axis=1)\n",
    "for col in ['news', 'topic', 'name', 'dsgntn', 'province', 'party', 'source', 'justification']:\n",
    "    df_train[col] = df_train[col].str.lower()\n",
    "    df_test[col] = df_test[col].str.lower()\n",
    "    df_val[col] = df_val[col].str.lower()\n",
    "    \n",
    "    def unidecode_text(text):\n",
    "        try:\n",
    "            text = unidecode.unidecode(text)\n",
    "        except:\n",
    "            pass\n",
    "        return text\n",
    "    df_train[col] = df_train.apply(lambda row: unidecode_text(row[col]), axis=1)\n",
    "    df_test[col] = df_test.apply(lambda row: unidecode_text(row[col]), axis=1)\n",
    "    df_val[col] = df_val.apply(lambda row: unidecode_text(row[col]), axis=1)"
   ]
  },
  {
   "cell_type": "code",
   "execution_count": 820,
   "metadata": {},
   "outputs": [],
   "source": [
    "## Dropping datapoints with Null values ## \n",
    "df_train = df_train.dropna(subset=['label', 'news', 'topic', 'name', 'dsgntn', 'province', 'party', 'n1', 'n2', 'n3', 'n4', 'n5', 'source', 'justification'])\n",
    "df_test = df_test.dropna(subset=['label', 'news', 'topic', 'name', 'dsgntn', 'province', 'party', 'n1', 'n2', 'n3', 'n4', 'n5', 'source', 'justification'])\n",
    "df_val = df_val.dropna(subset=['label', 'news', 'topic', 'name', 'dsgntn', 'province', 'party', 'n1', 'n2', 'n3', 'n4', 'n5', 'source', 'justification'])"
   ]
  },
  {
   "cell_type": "code",
   "execution_count": 821,
   "metadata": {},
   "outputs": [
    {
     "data": {
      "image/png": "[encoded data removed]",
      "text/plain": [
       "<Figure size 864x288 with 1 Axes>"
      ]
     },
     "metadata": {},
     "output_type": "display_data"
    }
   ],
   "source": [
    "## Adding Binary Label ##\n",
    "\n",
    "## Training\n",
    "df_true_1 = df_train[df_train['label'] == 'half-true']\n",
    "df_true_2 = df_train[df_train['label'] == 'mostly-true']\n",
    "df_true_3 = df_train[df_train['label'] == 'true']\n",
    "df_true = pd.concat([df_true_1, df_true_2, df_true_3])\n",
    "df_true['label_bin'] = ['true']*df_true.shape[0]\n",
    "\n",
    "df_false_1 = df_train[df_train['label'] == 'barely-true']\n",
    "df_false_2 = df_train[df_train['label'] == 'pants-fire']\n",
    "df_false_3 = df_train[df_train['label'] == 'false']\n",
    "df_false = pd.concat([df_false_1, df_false_2, df_false_3])\n",
    "df_false['label_bin'] = ['false']*df_false.shape[0]\n",
    "\n",
    "df_train = pd.concat([df_true, df_false]).sample(frac=1)\n",
    "\n",
    "## Testing\n",
    "df_true_1 = df_test[df_test['label'] == 'half-true']\n",
    "df_true_2 = df_test[df_test['label'] == 'mostly-true']\n",
    "df_true_3 = df_test[df_test['label'] == 'true']\n",
    "df_true = pd.concat([df_true_1, df_true_2, df_true_3])\n",
    "df_true['label_bin'] = ['true']*df_true.shape[0]\n",
    "\n",
    "df_false_1 = df_test[df_test['label'] == 'barely-true']\n",
    "df_false_2 = df_test[df_test['label'] == 'pants-fire']\n",
    "df_false_3 = df_test[df_test['label'] == 'false']\n",
    "df_false = pd.concat([df_false_1, df_false_2, df_false_3])\n",
    "df_false['label_bin'] = ['false']*df_false.shape[0]\n",
    "\n",
    "df_test = pd.concat([df_true, df_false]).sample(frac=1)\n",
    "\n",
    "## Validation\n",
    "df_true_1 = df_val[df_val['label'] == 'half-true']\n",
    "df_true_2 = df_val[df_val['label'] == 'mostly-true']\n",
    "df_true_3 = df_val[df_val['label'] == 'true']\n",
    "df_true = pd.concat([df_true_1, df_true_2, df_true_3])\n",
    "df_true['label_bin'] = ['true']*df_true.shape[0]\n",
    "\n",
    "df_false_1 = df_val[df_val['label'] == 'barely-true']\n",
    "df_false_2 = df_val[df_val['label'] == 'pants-fire']\n",
    "df_false_3 = df_val[df_val['label'] == 'false']\n",
    "df_false = pd.concat([df_false_1, df_false_2, df_false_3])\n",
    "df_false['label_bin'] = ['false']*df_false.shape[0]\n",
    "\n",
    "df_val = pd.concat([df_true, df_false]).sample(frac=1)\n",
    "\n",
    "\n",
    "##Visiualizing the prediction column: Binary\n",
    "\n",
    "count = df_train['label_bin'].value_counts()\n",
    "plt.figure(figsize=(12,4))\n",
    "sns.barplot(count.index, count.values, alpha=1)\n",
    "plt.ylabel('No. of Occurrences', fontsize=10)\n",
    "plt.xlabel('labels', fontsize=10)\n",
    "plt.xticks(rotation=90)\n",
    "plt.show()"
   ]
  },
  {
   "cell_type": "code",
   "execution_count": 822,
   "metadata": {},
   "outputs": [
    {
     "name": "stdout",
     "output_type": "stream",
     "text": [
      "Size of Cleaned Training Data:  (6668, 15)\n",
      "Size of Cleaned Testing Data:  (848, 15)\n",
      "Size of Cleaned Validation Data:  (857, 15)\n"
     ]
    }
   ],
   "source": [
    "## Size Description ##\n",
    "print('Size of Cleaned Training Data: ', df_train.shape)\n",
    "print('Size of Cleaned Testing Data: ', df_test.shape)\n",
    "print('Size of Cleaned Validation Data: ', df_val.shape)"
   ]
  },
  {
   "cell_type": "code",
   "execution_count": 823,
   "metadata": {},
   "outputs": [],
   "source": [
    "## Reseting index so as to avoid any confusion while mapping\n",
    "\n",
    "df_train = df_train.reset_index()\n",
    "df_train.drop('index', axis=1, inplace = True)\n",
    "\n",
    "df_test = df_test.reset_index()\n",
    "df_test.drop('index', axis=1, inplace = True)\n",
    "\n",
    "df_val = df_val.reset_index()\n",
    "df_val.drop('index', axis=1, inplace = True)"
   ]
  },
  {
   "cell_type": "code",
   "execution_count": 824,
   "metadata": {},
   "outputs": [
    {
     "data": {
      "text/plain": [
       "Index(['label', 'news', 'topic', 'name', 'dsgntn', 'province', 'party', 'n1',\n",
       "       'n2', 'n3', 'n4', 'n5', 'source', 'justification', 'label_bin'],\n",
       "      dtype='object')"
      ]
     },
     "execution_count": 824,
     "metadata": {},
     "output_type": "execute_result"
    }
   ],
   "source": [
    "df_val.columns"
   ]
  },
  {
   "cell_type": "code",
   "execution_count": 825,
   "metadata": {},
   "outputs": [],
   "source": [
    "stop_words1 = stopwords.words('english')"
   ]
  },
  {
   "cell_type": "code",
   "execution_count": 826,
   "metadata": {},
   "outputs": [],
   "source": [
    "df_val = df_val.dropna()\n",
    "\n",
    "X_train = df_train.drop(['label', 'label_bin'], axis=1)\n",
    "X_test = df_test.drop(['label', 'label_bin'], axis=1)\n",
    "X_val = df_val.drop(['label', 'label_bin'], axis=1)\n",
    "\n",
    "y_train = df_train['label']\n",
    "y_test = df_test['label']\n",
    "y_val = df_val['label']\n",
    "\n",
    "y_bin_train = df_train['label_bin']\n",
    "y_bin_test = df_test['label_bin']\n",
    "y_bin_val =df_val['label_bin']"
   ]
  },
  {
   "cell_type": "code",
   "execution_count": 827,
   "metadata": {},
   "outputs": [],
   "source": [
    "# list of word types (nouns and adjectives) to leave in the text\n",
    "def_Tags = ['NN', 'NNS', 'NNP', 'NNPS', 'JJ', 'JJS', 'JJR']#, 'RB', 'RBS', 'RBR', 'VB', 'VBD', 'VBG', 'VBN', 'VBP', 'VBZ']\n",
    "\n",
    "# functions to determine the type of a word\n",
    "def is_noun(tag):\n",
    "    return tag in ['NN', 'NNS', 'NNP', 'NNPS']\n",
    "\n",
    "\n",
    "def is_verb(tag):\n",
    "    return tag in ['VB', 'VBD', 'VBG', 'VBN', 'VBP', 'VBZ']\n",
    "\n",
    "\n",
    "def is_adverb(tag):\n",
    "    return tag in ['RB', 'RBR', 'RBS']\n",
    "\n",
    "\n",
    "def is_adjective(tag):\n",
    "    return tag in ['JJ', 'JJR', 'JJS']\n",
    "\n",
    "# transform tag forms\n",
    "def penn_to_wn(tag):\n",
    "    if is_adjective(tag):\n",
    "        return nltk.stem.wordnet.wordnet.ADJ\n",
    "    elif is_noun(tag):\n",
    "        return nltk.stem.wordnet.wordnet.NOUN\n",
    "    elif is_adverb(tag):\n",
    "        return nltk.stem.wordnet.wordnet.ADV\n",
    "    elif is_verb(tag):\n",
    "        return nltk.stem.wordnet.wordnet.VERB\n",
    "    return nltk.stem.wordnet.wordnet.NOUN\n",
    "\n",
    "# lemmatizer + tokenizer (+ stemming) class\n",
    "class LemmaTokenizer(object):\n",
    "    def __init__(self):\n",
    "        self.wnl = WordNetLemmatizer()\n",
    "        # we define (but not use) a stemming method, uncomment the last line in __call__ to get stemming tooo\n",
    "        self.stemmer = nltk.stem.SnowballStemmer('english') \n",
    "    def __call__(self, doc):\n",
    "        # pattern for numbers | words of length=2 | punctuations | words of length=1\n",
    "        pattern = re.compile(r'[0-9]+|\\b[\\w]{2,2}\\b|[%.,_`!\"&?\\')({~@;:#}+-]+|\\b[\\w]{1,1}\\b')\n",
    "        # tokenize document\n",
    "        d_token = word_tokenize(doc)\n",
    "        #filter out patterns from words\n",
    "        d_token = [x for x in d_token if x not in stop_words1]\n",
    "        d_token = [pattern.sub('', x) for x in d_token]\n",
    "        # get rid of anything with length=1\n",
    "        d_token = [x for x in d_token if len(x) > 1]\n",
    "        # position tagging\n",
    "        d_tag = nltk.pos_tag(d_token)\n",
    "        # selecting nouns and adjectives\n",
    "        d_tag = [(t[0], t[1]) for t in d_tag if t[1] in def_Tags]\n",
    "        # preparing lemmatization\n",
    "        doc = [(t[0], penn_to_wn(t[1])) for t in d_tag]\n",
    "        # lemmatization\n",
    "        doc = [self.wnl.lemmatize(t[0], t[1]) for t in doc]\n",
    "        # uncomment if you want stemming as well\n",
    "        #doc = [self.stemmer.stem(x) for x in doc]\n",
    "        return doc"
   ]
  },
  {
   "cell_type": "code",
   "execution_count": 828,
   "metadata": {},
   "outputs": [],
   "source": [
    "vec_tdidf = TfidfVectorizer(ngram_range=(1,1), analyzer='word', #stop_words=stop_words1, \n",
    "                                               norm='l2', tokenizer=LemmaTokenizer())"
   ]
  },
  {
   "cell_type": "code",
   "execution_count": 829,
   "metadata": {},
   "outputs": [],
   "source": [
    "clf = XGBClassifier(random_state=42, seed=2, colsample_bytree=0.6, subsample=0.7)"
   ]
  },
  {
   "cell_type": "code",
   "execution_count": 830,
   "metadata": {},
   "outputs": [],
   "source": [
    "class TextSelector(BaseEstimator, TransformerMixin):\n",
    "    \"\"\"\n",
    "    Transformer to select a single column from the data frame to perform additional transformations on\n",
    "    Use only text columns here.\n",
    "    \"\"\"\n",
    "    def __init__(self, key):\n",
    "        self.key = key\n",
    "\n",
    "    def fit(self, X, y=None, *parg, **kwarg):\n",
    "        return self\n",
    "\n",
    "    def transform(self, X):\n",
    "        # returns the input as a string\n",
    "        return X[self.key]\n",
    "    \n",
    "class NumberSelector(BaseEstimator, TransformerMixin):\n",
    "    \"\"\"\n",
    "    Transformer to select a single column from the data frame to perform additional transformations on\n",
    "    Use only numeric columns here.\n",
    "    \"\"\"\n",
    "    def __init__(self, key):\n",
    "        self.key = key\n",
    "\n",
    "    def fit(self, X, y=None):\n",
    "        return self\n",
    "\n",
    "    def transform(self, X):\n",
    "        # returns the input as a dataframe\n",
    "        return X[[self.key]]"
   ]
  },
  {
   "cell_type": "markdown",
   "metadata": {},
   "source": [
    "## Pipelining"
   ]
  },
  {
   "cell_type": "code",
   "execution_count": 831,
   "metadata": {},
   "outputs": [],
   "source": [
    "news = Pipeline([\n",
    "                ('selector', TextSelector(key='news')),\n",
    "                ('vectorizer', vec_tdidf)\n",
    "                ])\n",
    "\n",
    "topic = Pipeline([\n",
    "                ('selector', TextSelector(key='topic')),\n",
    "                ('vectorizer', vec_tdidf)\n",
    "                ])\n",
    "\n",
    "name = Pipeline([\n",
    "                ('selector', TextSelector(key='name')),\n",
    "                ('vectorizer', vec_tdidf)\n",
    "                ])\n",
    "\n",
    "dsgntn = Pipeline([\n",
    "                ('selector', TextSelector(key='dsgntn')),\n",
    "                ('vectorizer', vec_tdidf)\n",
    "                ])\n",
    "\n",
    "province = Pipeline([\n",
    "                ('selector', TextSelector(key='province')),\n",
    "                ('vectorizer', vec_tdidf)\n",
    "                ])\n",
    "\n",
    "party = Pipeline([\n",
    "                ('selector', TextSelector(key='party')),\n",
    "                ('vectorizer', vec_tdidf)\n",
    "                ])\n",
    "source = Pipeline([\n",
    "                ('selector', TextSelector(key='source')),\n",
    "                ('vectorizer', vec_tdidf)\n",
    "                ])\n",
    "\n",
    "justification = Pipeline([\n",
    "                ('selector', TextSelector(key='justification')),\n",
    "                ('vectorizer', vec_tdidf)\n",
    "                ])"
   ]
  },
  {
   "cell_type": "code",
   "execution_count": 832,
   "metadata": {},
   "outputs": [],
   "source": [
    "#pipelines of Numeric features\n",
    "\n",
    "n1 = Pipeline([\n",
    "                ('selector', NumberSelector(key='n1')),\n",
    "                ])\n",
    "n2 = Pipeline([\n",
    "                ('selector', NumberSelector(key='n2')),\n",
    "                ])\n",
    "n3 = Pipeline([\n",
    "                ('selector', NumberSelector(key='n3')),\n",
    "                ])\n",
    "n4 = Pipeline([\n",
    "                ('selector', NumberSelector(key='n4')),\n",
    "                ])\n",
    "n5 = Pipeline([\n",
    "                ('selector', NumberSelector(key='n5')),\n",
    "                ])"
   ]
  },
  {
   "cell_type": "code",
   "execution_count": 833,
   "metadata": {},
   "outputs": [],
   "source": [
    "features = FeatureUnion([('news', news),\n",
    "                      ('topic', topic),\n",
    "                      ('name', name),\n",
    "                      ('dsgntn', dsgntn),\n",
    "                      ('province', province),\n",
    "                      ('party', party),\n",
    "                      ('source', source),\n",
    "                      ('justification', justification),\n",
    "                      ('n1', n1),\n",
    "                      ('n2', n2),\n",
    "                      ('n3', n3),\n",
    "                      ('n4', n4),\n",
    "                      ('n5', n5)\n",
    "                      ])"
   ]
  },
  {
   "cell_type": "code",
   "execution_count": 834,
   "metadata": {},
   "outputs": [],
   "source": [
    "# Here we combine all the pipeline for a smooth flow\n",
    "\n",
    "pipe = Pipeline([('feats', feats),\n",
    "                 ('clf',clf)\n",
    "                 ])"
   ]
  },
  {
   "cell_type": "code",
   "execution_count": 835,
   "metadata": {},
   "outputs": [],
   "source": [
    "# definition of parameter grid to scan through\n",
    "# You may uncomment the below statements but make sure you have a high computational power as it might take some time\n",
    "param_grid = {\n",
    "     'clf__n_estimators': [50,100,300],\n",
    "#      'clf__colsample_bytree': [0.6,0.8,1],\n",
    "#      'clf__subsample': [0.5, 0.6, 0.7, 0.8, 0.9, 1]\n",
    "}"
   ]
  },
  {
   "cell_type": "code",
   "execution_count": 836,
   "metadata": {},
   "outputs": [],
   "source": [
    "grid_search = GridSearchCV(estimator = pipe, param_grid = param_grid, \n",
    "                          cv = 3, n_jobs = 1, verbose = 0, return_train_score=True)"
   ]
  },
  {
   "cell_type": "code",
   "execution_count": 838,
   "metadata": {},
   "outputs": [],
   "source": [
    "grid_search.fit(X_train, y_train)\n",
    "\n",
    "# Best Model for Six Way Classification\n",
    "clf_six_test = grid_search.best_estimator_"
   ]
  },
  {
   "cell_type": "code",
   "execution_count": 839,
   "metadata": {},
   "outputs": [],
   "source": [
    "grid_search.fit(X_train, y_bin_train)\n",
    "\n",
    "# Best Model for Binary Classification\n",
    "clf_bin_test = grid_search.best_estimator_"
   ]
  },
  {
   "cell_type": "markdown",
   "metadata": {},
   "source": [
    "## Visualizing Results on Test Dataset: Six Way Classification"
   ]
  },
  {
   "cell_type": "code",
   "execution_count": 841,
   "metadata": {
    "scrolled": true
   },
   "outputs": [
    {
     "name": "stdout",
     "output_type": "stream",
     "text": [
      "Accuracy: 0.38089622641509435\n",
      "Precision: 0.38089622641509435\n",
      "              precision    recall  f1-score   support\n",
      "\n",
      " barely-true       0.49      0.24      0.33       139\n",
      "       false       0.42      0.41      0.41       167\n",
      "   half-true       0.32      0.47      0.38       181\n",
      " mostly-true       0.34      0.53      0.42       173\n",
      "  pants-fire       0.93      0.33      0.49        42\n",
      "        true       0.44      0.20      0.27       146\n",
      "\n",
      "   micro avg       0.38      0.38      0.38       848\n",
      "   macro avg       0.49      0.37      0.38       848\n",
      "weighted avg       0.42      0.38      0.37       848\n",
      "\n",
      "Confusion matrix:\n"
     ]
    },
    {
     "data": {
      "image/png": "[encoded data removed]",
      "text/plain": [
       "<Figure size 720x576 with 2 Axes>"
      ]
     },
     "metadata": {},
     "output_type": "display_data"
    }
   ],
   "source": [
    "y_pred = clf_six_test.predict(X_test)\n",
    "\n",
    "print(\"Accuracy:\", accuracy_score(y_test, y_pred))\n",
    "print(\"Precision:\", precision_score(y_test, y_pred, average = 'micro'))\n",
    "print(classification_report(y_test, y_pred))\n",
    "print('Confusion matrix:')\n",
    "cm=metrics.confusion_matrix(y_test, y_pred)\n",
    "cm = cm / np.sum(cm, axis=1)[:,None]\n",
    "sns.set(rc={'figure.figsize':(10,8)})\n",
    "sns.heatmap(cm, \n",
    "    xticklabels=clf_six_test.classes_,\n",
    "    yticklabels=clf_six_test.classes_,\n",
    "       annot=True, cmap = 'YlGnBu')\n",
    "plt.pause(0.05)"
   ]
  },
  {
   "cell_type": "markdown",
   "metadata": {},
   "source": [
    "## Visualizing Results on Validation Dataset: Six Way Classification"
   ]
  },
  {
   "cell_type": "code",
   "execution_count": 842,
   "metadata": {},
   "outputs": [
    {
     "name": "stdout",
     "output_type": "stream",
     "text": [
      "Accuracy: 0.39789964994165694\n",
      "Precision: 0.39789964994165694\n",
      "              precision    recall  f1-score   support\n",
      "\n",
      " barely-true       0.57      0.28      0.38       153\n",
      "       false       0.41      0.41      0.41       174\n",
      "   half-true       0.33      0.53      0.40       173\n",
      " mostly-true       0.38      0.57      0.46       173\n",
      "  pants-fire       1.00      0.17      0.29        60\n",
      "        true       0.44      0.22      0.29       124\n",
      "\n",
      "   micro avg       0.40      0.40      0.40       857\n",
      "   macro avg       0.52      0.36      0.37       857\n",
      "weighted avg       0.46      0.40      0.39       857\n",
      "\n",
      "Confusion matrix:\n"
     ]
    },
    {
     "data": {
      "image/png": "[encoded data removed]",
      "text/plain": [
       "<Figure size 720x576 with 2 Axes>"
      ]
     },
     "metadata": {},
     "output_type": "display_data"
    }
   ],
   "source": [
    "y_val_pred = clf_six_test.predict(X_val)\n",
    "\n",
    "print(\"Accuracy:\", accuracy_score(y_val, y_val_pred))\n",
    "print(\"Precision:\", precision_score(y_val, y_val_pred, average = 'micro'))\n",
    "print(classification_report(y_val, y_val_pred))\n",
    "print('Confusion matrix:')\n",
    "cm=metrics.confusion_matrix(y_val, y_val_pred)\n",
    "cm = cm / np.sum(cm, axis=1)[:,None]\n",
    "sns.set(rc={'figure.figsize':(10,8)})\n",
    "sns.heatmap(cm, \n",
    "    xticklabels=clf_six_test.classes_,\n",
    "    yticklabels=clf_six_test.classes_,\n",
    "       annot=True, cmap = 'YlGnBu')\n",
    "plt.pause(0.05)"
   ]
  },
  {
   "cell_type": "markdown",
   "metadata": {},
   "source": [
    "## Visualizing Results on Test Dataset: Binary Classification"
   ]
  },
  {
   "cell_type": "code",
   "execution_count": 843,
   "metadata": {},
   "outputs": [
    {
     "name": "stdout",
     "output_type": "stream",
     "text": [
      "Accuracy: 0.7205188679245284\n",
      "Precision: 0.7205188679245284\n",
      "              precision    recall  f1-score   support\n",
      "\n",
      "       false       0.76      0.47      0.58       348\n",
      "        true       0.71      0.90      0.79       500\n",
      "\n",
      "   micro avg       0.72      0.72      0.72       848\n",
      "   macro avg       0.73      0.68      0.68       848\n",
      "weighted avg       0.73      0.72      0.70       848\n",
      "\n",
      "Confusion matrix:\n"
     ]
    },
    {
     "data": {
      "image/png": "[encoded data removed]",
      "text/plain": [
       "<Figure size 720x576 with 2 Axes>"
      ]
     },
     "metadata": {},
     "output_type": "display_data"
    }
   ],
   "source": [
    "y_pred = clf_bin_test.predict(X_test)\n",
    "\n",
    "print(\"Accuracy:\", accuracy_score(y_bin_test, y_pred))\n",
    "print(\"Precision:\", precision_score(y_bin_test, y_pred, average = 'micro'))\n",
    "print(classification_report(y_bin_test, y_pred))\n",
    "print('Confusion matrix:')\n",
    "cm=metrics.confusion_matrix(y_bin_test, y_pred)\n",
    "cm = cm / np.sum(cm, axis=1)[:,None]\n",
    "sns.set(rc={'figure.figsize':(10,8)})\n",
    "sns.heatmap(cm, \n",
    "    xticklabels=clf_bin_test.classes_,\n",
    "    yticklabels=clf_bin_test.classes_,\n",
    "       annot=True, cmap = 'YlGnBu')\n",
    "plt.pause(0.05)"
   ]
  },
  {
   "cell_type": "markdown",
   "metadata": {},
   "source": [
    "## Visualizing Results on Validation Dataset: Binary Classification"
   ]
  },
  {
   "cell_type": "code",
   "execution_count": 844,
   "metadata": {},
   "outputs": [
    {
     "name": "stdout",
     "output_type": "stream",
     "text": [
      "Accuracy: 0.6849474912485414\n",
      "Precision: 0.6849474912485414\n",
      "              precision    recall  f1-score   support\n",
      "\n",
      "       false       0.76      0.44      0.56       387\n",
      "        true       0.66      0.89      0.75       470\n",
      "\n",
      "   micro avg       0.68      0.68      0.68       857\n",
      "   macro avg       0.71      0.66      0.66       857\n",
      "weighted avg       0.70      0.68      0.67       857\n",
      "\n",
      "Confusion matrix:\n"
     ]
    },
    {
     "data": {
      "image/png": "[encoded data removed]",
      "text/plain": [
       "<Figure size 720x576 with 2 Axes>"
      ]
     },
     "metadata": {},
     "output_type": "display_data"
    }
   ],
   "source": [
    "y_val_pred = clf_bin_test.predict(X_val)\n",
    "\n",
    "print(\"Accuracy:\", accuracy_score(y_bin_val, y_val_pred))\n",
    "print(\"Precision:\", precision_score(y_bin_val, y_val_pred, average = 'micro'))\n",
    "print(classification_report(y_bin_val, y_val_pred))\n",
    "print('Confusion matrix:')\n",
    "cm=metrics.confusion_matrix(y_bin_val, y_val_pred)\n",
    "cm = cm / np.sum(cm, axis=1)[:,None]\n",
    "sns.set(rc={'figure.figsize':(10,8)})\n",
    "sns.heatmap(cm, \n",
    "    xticklabels=clf_bin_test.classes_,\n",
    "    yticklabels=clf_bin_test.classes_,\n",
    "       annot=True, cmap = 'YlGnBu')\n",
    "plt.pause(0.05)"
   ]
  },
  {
   "cell_type": "code",
   "execution_count": null,
   "metadata": {},
   "outputs": [],
   "source": [
    "\n",
    "# the inspiration behind this type of pipelinr system is drawn fro'https://www.kaggle.com/diveki/classification-with-nlp-xgboost-and-pipelines'\n",
    "## This was the tuned XGBoost model which showed the highes accuracy"
   ]
  },
  {
   "cell_type": "code",
   "execution_count": null,
   "metadata": {},
   "outputs": [],
   "source": []
  }
 ],
 "metadata": {
  "kernelspec": {
   "display_name": "Python 3",
   "language": "python",
   "name": "python3"
  },
  "language_info": {
   "codemirror_mode": {
    "name": "ipython",
    "version": 3
   },
   "file_extension": ".py",
   "mimetype": "text/x-python",
   "name": "python",
   "nbconvert_exporter": "python",
   "pygments_lexer": "ipython3",
   "version": "3.7.3"
  }
 },
 "nbformat": 4,
 "nbformat_minor": 2
}
